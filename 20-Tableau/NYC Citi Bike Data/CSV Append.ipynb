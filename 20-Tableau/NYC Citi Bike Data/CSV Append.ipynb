{
 "cells": [
  {
   "cell_type": "code",
   "execution_count": 4,
   "metadata": {},
   "outputs": [
    {
     "name": "stdout",
     "output_type": "stream",
     "text": [
      "JC-201801-citibike-tripdata.csv\n",
      "JC-201809-citibike-tripdata.csv\n",
      "JC-201803-citibike-tripdata.csv\n",
      "JC-201805-citibike-tripdata.csv\n",
      "JC-201811-citibike-tripdata.csv\n",
      "JC-201807-citibike-tripdata.csv\n",
      "JC-201808-citibike-tripdata.csv\n",
      "JC-201802-citibike-tripdata.csv\n",
      "JC-201804-citibike-tripdata.csv\n",
      "JC-201812-citibike-tripdata.csv\n",
      "JC-201806-citibike-tripdata.csv\n",
      "JC-201810-citibike-tripdata.csv\n"
     ]
    }
   ],
   "source": [
    "import pandas as pd\n",
    "import glob\n",
    "\n",
    "csv_annual = pd.DataFrame()\n",
    "\n",
    "path = \"*.csv\"\n",
    "for fname in glob.glob(path):\n",
    "    print(fname)\n",
    "    df = pd.read_csv(fname)\n",
    "    csv_annual = df.append(csv_annual)\n",
    "csv_annual.to_csv(\"Citi_Bike_2018.csv\")\n"
   ]
  },
  {
   "cell_type": "code",
   "execution_count": null,
   "metadata": {},
   "outputs": [],
   "source": []
  }
 ],
 "metadata": {
  "kernelspec": {
   "display_name": "Python 3",
   "language": "python",
   "name": "python3"
  },
  "language_info": {
   "codemirror_mode": {
    "name": "ipython",
    "version": 3
   },
   "file_extension": ".py",
   "mimetype": "text/x-python",
   "name": "python",
   "nbconvert_exporter": "python",
   "pygments_lexer": "ipython3",
   "version": "3.7.3"
  }
 },
 "nbformat": 4,
 "nbformat_minor": 2
}
