{
 "cells": [
  {
   "cell_type": "markdown",
   "metadata": {},
   "source": [
    "## Step 2 - MongoDB and Flask Application\n",
    "\n",
    "Use MongoDB with Flask templating to create a new HTML page that displays all of the information that was scraped from the URLs above.\n",
    "\n",
    "* Start by converting your Jupyter notebook into a Python script called `scrape_mars.py` with a function called `scrape` that will execute all of your scraping code from above and return one Python dictionary containing all of the scraped data.\n",
    "\n",
    "* Next, create a route called `/scrape` that will import your `scrape_mars.py` script and call your `scrape` function.\n",
    "\n",
    "  * Store the return value in Mongo as a Python dictionary.\n",
    "\n"
   ]
  },
  {
   "cell_type": "code",
   "execution_count": 1,
   "metadata": {},
   "outputs": [],
   "source": [
    "from flask import Flask, render_template, request\n",
    "import pymongo\n",
    "import scrape_mars\n",
    "\n",
    "app = Flask(__name__)"
   ]
  },
  {
   "cell_type": "code",
   "execution_count": 2,
   "metadata": {
    "scrolled": true
   },
   "outputs": [
    {
     "name": "stdout",
     "output_type": "stream",
     "text": [
      "InSight Lands Praise and a Proclamation from LA County\n",
      "Several members of the Mars InSight team accepted a proclamation on behalf of the mission from L.A. County Board of Supervisors on Tuesday, Feb. 19.\n",
      "After a Reset, Curiosity Is Operating Normally\n",
      "NASA's Mars rover Curiosity is in good health but takes a short break while engineers diagnose why it reset its computer. \n",
      "InSight Is the Newest Mars Weather Service\n",
      "By collecting data around the clock, NASA's lander will provide unique science about the Martian surface.\n",
      "Six Things to Know About NASA's Opportunity Rover\n",
      "Opportunity's mission is complete. Here are highlights from its time on Mars.\n",
      "NASA's Opportunity Rover Mission on Mars Comes to End\n",
      "NASA's Opportunity Mars rover mission is complete after 15 years on Mars. Opportunity's record-breaking exploration laid the groundwork for future missions to the Red Planet.\n",
      "NASA's InSight Prepares to Take Mars' Temperature\n",
      "The lander's second instrument is on the ground. But its ‘mole’ — a burrowing probe — has a long way to go.\n",
      "NASA to Share Results of Effort to Recover Mars Rover\n",
      "NASA will discuss the status of its Mars Exploration Rover Opportunity in a media briefing at 11 a.m. PST (2 p.m. EST) Wednesday, Feb. 13, from the Jet Propulsion Laboratory.\n",
      "NASA's MAVEN Spacecraft Shrinking its Mars Orbit to Prepare for Mars 2020 Rover\n",
      "The MAVEN spacecraft today is starting a campaign to tighten its orbit around Mars to prepare to serve as a data-relay satellite for NASA’s Mars 2020 rover, which launches next year.\n",
      "360 Video: Curiosity Rover Departs Vera Rubin Ridge\n",
      "This panorama from the Mast Camera (Mastcam) on NASA's Curiosity Mars rover was taken on Dec. 19 (Sol 2265). The rover's last drill location on Vera Rubin Ridge is visible, as well as the clay region it will spend the next year exploring.\n",
      "Beyond Mars, the Mini MarCO Spacecraft Fall Silent\n",
      "The first CubeSat mission to deep space may have reached their limit, but they could inspire future NASA missions.\n",
      "InSight's Seismometer Now Has a Cozy Shelter on Mars\n",
      "A domed shield has been set over one of InSight's primary science instruments, protecting it from Mars' wind and temperature changes.\n",
      "\"Mars Buggy\" Curiosity Measures a Mountain's Gravity\n",
      "Smartphone-like sensors on the NASA rover were used to calculate the density of Mount Sharp, offering new clues to its formation.\n",
      "Curiosity Says Farewell to Mars' Vera Rubin Ridge\n",
      "The Mars rover is moving on and has taken its last selfie on the ridge it's explored for more than a year.\n",
      "Rover Team Beaming New Commands to Opportunity on Mars\n",
      "Engineers at JPL have begun transmitting a new set of commands to Opportunity in an attempt to compel the Mars rover to contact Earth.\n",
      "NASA's Opportunity Rover Logs 15 Years on Mars\n",
      "The rover landed in a region of the Red Planet called Meridiani Planum 16 years ago today, on Jan. 24, 2004.\n",
      "NASA's InSight Places First Instrument on Mars\n",
      "In deploying its first instrument onto the surface of Mars, the lander completes a major mission milestone.\n",
      "InSight Engineers Have Made a Martian Rock Garden\n",
      "Reconstructing Mars here on Earth lets them practice setting down the lander's science instruments.\n",
      "Mars InSight Lander Seen in First Images from Space \n",
      "Look closely, and you can make out the lander's solar panels.\n",
      "NASA's InSight Takes Its First Selfie\n",
      "Two new image mosaics detail the lander's deck and \"workspace\" — the surface where it will eventually set down its science instruments.\n",
      "NASA InSight Lander 'Hears' Martian Winds \n",
      "Vibrations picked up by two spacecraft instruments have provided the first sounds of Martian wind.\n",
      "NASA's Mars InSight Flexes Its Arm\n",
      "Now unstowed, the spacecraft's robotic arm will point a camera located on its elbow and take images of the surroundings.\n",
      "Mars New Home 'a Large Sandbox'\n",
      "With InSight safely on the surface of Mars, the mission team is busy learning more about the spacecraft's landing site.\n",
      "NASA Hears MarCO CubeSats Loud and Clear from Mars \n",
      "A pair of tiny, experimental spacecraft fulfilled their mission yesterday, relaying back near-real-time data during InSight's landing.\n",
      "InSight Is Catching Rays on Mars\n",
      "The lander has sent data indicating its solar panels are open and receiving sunlight to power its surface operations.\n",
      "NASA InSight Lander Arrives on Martian Surface \n",
      "The touchdown marks the eighth time NASA has successfully landed a spacecraft on Mars.\n",
      "Landing Day for InSight\n",
      "NASA's InSight spacecraft is on target for Mars landing at around noon PST today.\n",
      "NASA InSight Landing on Mars: Milestones\n",
      "On Nov. 26, NASA's InSight spacecraft will blaze through the Martian atmosphere and set a lander gently on the surface in less time than it takes to cook a hard-boiled egg.\n",
      "NASA InSight Team on Course for Mars Touchdown\n",
      "NASA's Mars InSight spacecraft is on track for a soft touchdown on the surface of the Red Planet on Nov. 26.\n",
      "What Two Planetary Siblings Can Teach Us About Life\n",
      "In studying Mars, NASA's InSight will reveal what makes one planet more or less suitable for life than another.\n",
      "NASA Announces Landing Site for Mars 2020 Rover\n",
      "After a five-year search, NASA has chosen Jezero Crater as the landing site for its upcoming Mars 2020 rover mission.\n",
      "NASA to Host Media Call on Next Mars Landing Site\n",
      "NASA will host a media teleconference at 9 a.m. PST (noon EST) Monday, Nov. 19, to provide details about the Mars 2020 rover’s landing site on the Red Planet.\n",
      "How NASA Will Know When InSight Touches Down\n",
      "On Nov. 26, engineers will look for a combination of signals to determine whether the next spacecraft to Mars lands safely.\n",
      "NASA Brings Mars Landing to Viewers Everywhere\n",
      "NASA's InSight lander is scheduled to touch down on the Red Planet at approximately noon PST  on Nov. 26, with a new suite of instruments to probe below the Martian surface.\n",
      "Curiosity on the Move Again\n",
      "NASA's Mars Curiosity rover drove about 197 feet over the weekend to a site called Lake Orcadie, pushing its total odometry to over 12 miles.\n",
      "The Mars InSight Landing Site Is Just Plain Perfect\n",
      "If the InSight landing zone were ice cream, it would be vanilla.\n",
      "Five Things to Know About InSight's Mars Landing\n",
      "NASA engineers will be holding their breath when their spacecraft heads into Mars' atmosphere on Nov. 26.\n",
      "NASA Launches a New Podcast to Mars\n",
      "NASA's new eight-episode series 'On a Mission' follows the InSight spacecraft on its journey to Mars and details the extraordinary challenges of landing on the Red Planet.\n",
      "Update on Opportunity Rover Recovery Efforts\n",
      "After a review of the progress of the listening campaign, NASA will continue its current strategy for attempting to make contact with the Opportunity rover for the foreseeable future.\n",
      "Third ASPIRE Test Confirms Mars 2020 Parachute a Go\n",
      "The supersonic parachute that will handle the heaviest payload yet to the Red Planet – Mars 2020 rover – passes its final sounding rocket test with flying colors.\n",
      "NASA to Host Briefing on November Mars InSight Landing\n",
      "A briefing on NASA's upcoming InSight Mars landing will air on Wed. Oct. 31 at 1:30 p.m. EDT (10:30 a.m. PDT) on NASA TV, the agency's website and NASA InSight Facebook Page.\n",
      "\n",
      "\t\t\t\t  Titan's Northern Lakes: Salt Flats?\t\t\t\t\n",
      "https://www.jpl.nasa.gov/spaceimages/images/mediumsize/PIA17470_ip.jpg\n",
      "\n",
      "\t\t\t\t  Titan's Northern Lakes: Salt Flats?\t\t\t\t\n",
      "https://www.jpl.nasa.gov/spaceimages/images/mediumsize/PIA17470_ip.jpg\n",
      "InSight sol 89 (2019-02-26) low -95.1ºC (-139.2ºF) high -14.4ºC (6.1ºF)\n",
      "winds from the SW at 4.3 m/s (9.6 mph) gust… https://t.co/IAjD8uDRGk\n"
     ]
    }
   ],
   "source": [
    "mars_pull = scrape_mars.scrape()"
   ]
  },
  {
   "cell_type": "code",
   "execution_count": null,
   "metadata": {},
   "outputs": [],
   "source": [
    "mars_pull[3]"
   ]
  },
  {
   "cell_type": "code",
   "execution_count": 3,
   "metadata": {
    "scrolled": true
   },
   "outputs": [
    {
     "data": {
      "text/plain": [
       "<pymongo.results.InsertOneResult at 0x10b861fc8>"
      ]
     },
     "execution_count": 3,
     "metadata": {},
     "output_type": "execute_result"
    }
   ],
   "source": [
    "conn = 'mongodb://localhost:27017'\n",
    "client = pymongo.MongoClient(conn)\n",
    "\n",
    "# Declare the database\n",
    "db = client.marsDB\n",
    "\n",
    "db.mars.drop()\n",
    "\n",
    "# Declare the collection\n",
    "collection = db.mars\n",
    "news = mars_pull[0]\n",
    "image = mars_pull[1]\n",
    "weather = mars_pull[2]\n",
    "table = mars_pull[3]\n",
    "urls = mars_pull[4]\n",
    "\n",
    "collection.insert_one(news)\n",
    "collection.insert_one(image)\n",
    "collection.insert_one(weather)\n",
    "collection.insert_one(table)\n",
    "collection.insert_one(urls)\n",
    "\n",
    "\n",
    "\n",
    "\n"
   ]
  },
  {
   "cell_type": "code",
   "execution_count": null,
   "metadata": {},
   "outputs": [],
   "source": [
    "@app.route(\"/scrape\")\n",
    "def scrapecall():\n",
    "\n",
    "    #mars_pull = scrape_mars.scrape()\n",
    "\n",
    "    conn = 'mongodb://localhost:27017'\n",
    "    client = pymongo.MongoClient(conn)\n",
    "\n",
    "    # Declare the database\n",
    "    db = client.marsDB\n",
    "\n",
    "    db.mars.drop()\n",
    "\n",
    "    # Declare the collection\n",
    "    collection = db.mars\n",
    "    \n",
    "    news = mars_pull[0]\n",
    "    image = mars_pull[1]\n",
    "    weather = mars_pull[2]\n",
    "    table = mars_pull[3]\n",
    "    urls = mars_pull[4]\n",
    "\n",
    "    collection.insert(news)\n",
    "    collection.insert(image)\n",
    "    collection.insert(weather)\n",
    "    collection.insert(table)\n",
    "    collection.insert(urls)\n",
    "\n",
    "\n",
    "    return"
   ]
  },
  {
   "cell_type": "code",
   "execution_count": null,
   "metadata": {},
   "outputs": [],
   "source": [
    "\n",
    "# Route that will trigger the scrape function\n",
    "@app.route(\"/scrape\")\n",
    "def scrape():\n",
    "\n",
    "    # Run the scrape function\n",
    "    costa_data = scrape_costa.scrape_info()\n",
    "\n",
    "    # Update the Mongo database using update and upsert=True\n",
    "    mongo.db.collection.update({}, costa_data, upsert=True)\n",
    "\n",
    "    # Redirect back to home page\n",
    "    return redirect(\"/\")\n"
   ]
  },
  {
   "cell_type": "markdown",
   "metadata": {},
   "source": [
    "* Create a root route `/` that will query your Mongo database and pass the mars data into an HTML template to display the data.\n",
    "\n",
    "* Create a template HTML file called `index.html` that will take the mars data dictionary and display all of the data in the appropriate HTML elements.\n"
   ]
  },
  {
   "cell_type": "code",
   "execution_count": null,
   "metadata": {},
   "outputs": [],
   "source": [
    "@app.route('/')\n",
    "def index():\n",
    "\n",
    "    mars = list(db.mars.find())\n",
    "        news = list(db.mars.find())\n",
    "    image = list(db.mars.find())\n",
    "    weather = list(db.mars.find())\n",
    "    table = mars_pull[3]\n",
    "    urls = mars_pull[4]\n",
    "\n",
    "    return render_template('index.html', mars=mars)"
   ]
  }
 ],
 "metadata": {
  "kernelspec": {
   "display_name": "Python 3",
   "language": "python",
   "name": "python3"
  },
  "language_info": {
   "codemirror_mode": {
    "name": "ipython",
    "version": 3
   },
   "file_extension": ".py",
   "mimetype": "text/x-python",
   "name": "python",
   "nbconvert_exporter": "python",
   "pygments_lexer": "ipython3",
   "version": "3.7.0"
  }
 },
 "nbformat": 4,
 "nbformat_minor": 2
}
